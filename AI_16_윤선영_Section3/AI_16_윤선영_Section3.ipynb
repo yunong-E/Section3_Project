{
 "cells": [
  {
   "cell_type": "code",
   "execution_count": 2,
   "id": "ea0941e7",
   "metadata": {},
   "outputs": [],
   "source": [
    "import pandas as pd"
   ]
  },
  {
   "cell_type": "code",
   "execution_count": 3,
   "id": "ad2d896d",
   "metadata": {},
   "outputs": [
    {
     "name": "stdout",
     "output_type": "stream",
     "text": [
      "Requirement already satisfied: squarify in /Users/yun/opt/anaconda3/lib/python3.9/site-packages (0.4.3)\r\n"
     ]
    }
   ],
   "source": [
    "import matplotlib.pyplot as plt\n",
    "!pip install squarify\n",
    "import squarify "
   ]
  },
  {
   "cell_type": "code",
   "execution_count": 6,
   "id": "9a7ba974",
   "metadata": {},
   "outputs": [
    {
     "data": {
      "text/html": [
       "<div>\n",
       "<style scoped>\n",
       "    .dataframe tbody tr th:only-of-type {\n",
       "        vertical-align: middle;\n",
       "    }\n",
       "\n",
       "    .dataframe tbody tr th {\n",
       "        vertical-align: top;\n",
       "    }\n",
       "\n",
       "    .dataframe thead th {\n",
       "        text-align: right;\n",
       "    }\n",
       "</style>\n",
       "<table border=\"1\" class=\"dataframe\">\n",
       "  <thead>\n",
       "    <tr style=\"text-align: right;\">\n",
       "      <th></th>\n",
       "      <th>id</th>\n",
       "      <th>num1</th>\n",
       "      <th>num2</th>\n",
       "      <th>num3</th>\n",
       "      <th>num4</th>\n",
       "      <th>num5</th>\n",
       "      <th>num6</th>\n",
       "    </tr>\n",
       "  </thead>\n",
       "  <tbody>\n",
       "    <tr>\n",
       "      <th>0</th>\n",
       "      <td>1</td>\n",
       "      <td>2</td>\n",
       "      <td>7</td>\n",
       "      <td>8</td>\n",
       "      <td>2</td>\n",
       "      <td>3</td>\n",
       "      <td>9</td>\n",
       "    </tr>\n",
       "    <tr>\n",
       "      <th>1</th>\n",
       "      <td>2</td>\n",
       "      <td>1</td>\n",
       "      <td>5</td>\n",
       "      <td>4</td>\n",
       "      <td>4</td>\n",
       "      <td>5</td>\n",
       "      <td>7</td>\n",
       "    </tr>\n",
       "    <tr>\n",
       "      <th>2</th>\n",
       "      <td>3</td>\n",
       "      <td>0</td>\n",
       "      <td>5</td>\n",
       "      <td>9</td>\n",
       "      <td>3</td>\n",
       "      <td>6</td>\n",
       "      <td>9</td>\n",
       "    </tr>\n",
       "    <tr>\n",
       "      <th>3</th>\n",
       "      <td>4</td>\n",
       "      <td>2</td>\n",
       "      <td>2</td>\n",
       "      <td>1</td>\n",
       "      <td>0</td>\n",
       "      <td>9</td>\n",
       "      <td>7</td>\n",
       "    </tr>\n",
       "    <tr>\n",
       "      <th>4</th>\n",
       "      <td>5</td>\n",
       "      <td>1</td>\n",
       "      <td>9</td>\n",
       "      <td>0</td>\n",
       "      <td>7</td>\n",
       "      <td>7</td>\n",
       "      <td>9</td>\n",
       "    </tr>\n",
       "  </tbody>\n",
       "</table>\n",
       "</div>"
      ],
      "text/plain": [
       "   id  num1  num2  num3  num4  num5  num6\n",
       "0   1     2     7     8     2     3     9\n",
       "1   2     1     5     4     4     5     7\n",
       "2   3     0     5     9     3     6     9\n",
       "3   4     2     2     1     0     9     7\n",
       "4   5     1     9     0     7     7     9"
      ]
     },
     "execution_count": 6,
     "metadata": {},
     "output_type": "execute_result"
    }
   ],
   "source": [
    "raw_lott = pd.read_csv('Raw_Lottery_202301012045.csv')\n",
    "raw_bonus = pd.read_csv('Raw_Bonus_202301012045.csv')\n",
    "\n",
    "#raw_lott.head()\n",
    "raw_bonus.head()"
   ]
  },
  {
   "cell_type": "markdown",
   "id": "d161f3cc",
   "metadata": {},
   "source": []
  },
  {
   "cell_type": "code",
   "execution_count": 5,
   "id": "e49c5844",
   "metadata": {},
   "outputs": [
    {
     "data": {
      "text/html": [
       "<div>\n",
       "<style scoped>\n",
       "    .dataframe tbody tr th:only-of-type {\n",
       "        vertical-align: middle;\n",
       "    }\n",
       "\n",
       "    .dataframe tbody tr th {\n",
       "        vertical-align: top;\n",
       "    }\n",
       "\n",
       "    .dataframe thead th {\n",
       "        text-align: right;\n",
       "    }\n",
       "</style>\n",
       "<table border=\"1\" class=\"dataframe\">\n",
       "  <thead>\n",
       "    <tr style=\"text-align: right;\">\n",
       "      <th></th>\n",
       "      <th>id</th>\n",
       "      <th>num1</th>\n",
       "      <th>num2</th>\n",
       "      <th>num3</th>\n",
       "      <th>num4</th>\n",
       "      <th>num5</th>\n",
       "      <th>num6</th>\n",
       "      <th>num7</th>\n",
       "    </tr>\n",
       "  </thead>\n",
       "  <tbody>\n",
       "    <tr>\n",
       "      <th>0</th>\n",
       "      <td>1</td>\n",
       "      <td>4.0</td>\n",
       "      <td>5.0</td>\n",
       "      <td>3.0</td>\n",
       "      <td>9.0</td>\n",
       "      <td>0.0</td>\n",
       "      <td>5.0</td>\n",
       "      <td>6.0</td>\n",
       "    </tr>\n",
       "    <tr>\n",
       "      <th>1</th>\n",
       "      <td>2</td>\n",
       "      <td>NaN</td>\n",
       "      <td>NaN</td>\n",
       "      <td>NaN</td>\n",
       "      <td>NaN</td>\n",
       "      <td>NaN</td>\n",
       "      <td>NaN</td>\n",
       "      <td>NaN</td>\n",
       "    </tr>\n",
       "    <tr>\n",
       "      <th>2</th>\n",
       "      <td>3</td>\n",
       "      <td>NaN</td>\n",
       "      <td>NaN</td>\n",
       "      <td>NaN</td>\n",
       "      <td>NaN</td>\n",
       "      <td>NaN</td>\n",
       "      <td>NaN</td>\n",
       "      <td>NaN</td>\n",
       "    </tr>\n",
       "    <tr>\n",
       "      <th>3</th>\n",
       "      <td>4</td>\n",
       "      <td>NaN</td>\n",
       "      <td>NaN</td>\n",
       "      <td>NaN</td>\n",
       "      <td>NaN</td>\n",
       "      <td>NaN</td>\n",
       "      <td>NaN</td>\n",
       "      <td>NaN</td>\n",
       "    </tr>\n",
       "    <tr>\n",
       "      <th>4</th>\n",
       "      <td>5</td>\n",
       "      <td>NaN</td>\n",
       "      <td>NaN</td>\n",
       "      <td>NaN</td>\n",
       "      <td>NaN</td>\n",
       "      <td>NaN</td>\n",
       "      <td>NaN</td>\n",
       "      <td>NaN</td>\n",
       "    </tr>\n",
       "    <tr>\n",
       "      <th>...</th>\n",
       "      <td>...</td>\n",
       "      <td>...</td>\n",
       "      <td>...</td>\n",
       "      <td>...</td>\n",
       "      <td>...</td>\n",
       "      <td>...</td>\n",
       "      <td>...</td>\n",
       "      <td>...</td>\n",
       "    </tr>\n",
       "    <tr>\n",
       "      <th>134</th>\n",
       "      <td>135</td>\n",
       "      <td>NaN</td>\n",
       "      <td>NaN</td>\n",
       "      <td>NaN</td>\n",
       "      <td>NaN</td>\n",
       "      <td>NaN</td>\n",
       "      <td>NaN</td>\n",
       "      <td>NaN</td>\n",
       "    </tr>\n",
       "    <tr>\n",
       "      <th>135</th>\n",
       "      <td>136</td>\n",
       "      <td>NaN</td>\n",
       "      <td>NaN</td>\n",
       "      <td>NaN</td>\n",
       "      <td>NaN</td>\n",
       "      <td>NaN</td>\n",
       "      <td>NaN</td>\n",
       "      <td>NaN</td>\n",
       "    </tr>\n",
       "    <tr>\n",
       "      <th>136</th>\n",
       "      <td>137</td>\n",
       "      <td>NaN</td>\n",
       "      <td>NaN</td>\n",
       "      <td>NaN</td>\n",
       "      <td>NaN</td>\n",
       "      <td>NaN</td>\n",
       "      <td>NaN</td>\n",
       "      <td>NaN</td>\n",
       "    </tr>\n",
       "    <tr>\n",
       "      <th>137</th>\n",
       "      <td>138</td>\n",
       "      <td>NaN</td>\n",
       "      <td>NaN</td>\n",
       "      <td>NaN</td>\n",
       "      <td>NaN</td>\n",
       "      <td>NaN</td>\n",
       "      <td>NaN</td>\n",
       "      <td>NaN</td>\n",
       "    </tr>\n",
       "    <tr>\n",
       "      <th>138</th>\n",
       "      <td>139</td>\n",
       "      <td>NaN</td>\n",
       "      <td>NaN</td>\n",
       "      <td>NaN</td>\n",
       "      <td>NaN</td>\n",
       "      <td>NaN</td>\n",
       "      <td>NaN</td>\n",
       "      <td>NaN</td>\n",
       "    </tr>\n",
       "  </tbody>\n",
       "</table>\n",
       "<p>139 rows × 8 columns</p>\n",
       "</div>"
      ],
      "text/plain": [
       "      id  num1  num2  num3  num4  num5  num6  num7\n",
       "0      1   4.0   5.0   3.0   9.0   0.0   5.0   6.0\n",
       "1      2   NaN   NaN   NaN   NaN   NaN   NaN   NaN\n",
       "2      3   NaN   NaN   NaN   NaN   NaN   NaN   NaN\n",
       "3      4   NaN   NaN   NaN   NaN   NaN   NaN   NaN\n",
       "4      5   NaN   NaN   NaN   NaN   NaN   NaN   NaN\n",
       "..   ...   ...   ...   ...   ...   ...   ...   ...\n",
       "134  135   NaN   NaN   NaN   NaN   NaN   NaN   NaN\n",
       "135  136   NaN   NaN   NaN   NaN   NaN   NaN   NaN\n",
       "136  137   NaN   NaN   NaN   NaN   NaN   NaN   NaN\n",
       "137  138   NaN   NaN   NaN   NaN   NaN   NaN   NaN\n",
       "138  139   NaN   NaN   NaN   NaN   NaN   NaN   NaN\n",
       "\n",
       "[139 rows x 8 columns]"
      ]
     },
     "execution_count": 5,
     "metadata": {},
     "output_type": "execute_result"
    }
   ],
   "source": [
    "# 기준모델\n",
    "raw_lott.mode()"
   ]
  },
  {
   "cell_type": "code",
   "execution_count": null,
   "id": "e28d32b0",
   "metadata": {},
   "outputs": [],
   "source": []
  },
  {
   "cell_type": "code",
   "execution_count": 6,
   "id": "578a20ff",
   "metadata": {},
   "outputs": [
    {
     "data": {
      "text/html": [
       "<div>\n",
       "<style scoped>\n",
       "    .dataframe tbody tr th:only-of-type {\n",
       "        vertical-align: middle;\n",
       "    }\n",
       "\n",
       "    .dataframe tbody tr th {\n",
       "        vertical-align: top;\n",
       "    }\n",
       "\n",
       "    .dataframe thead th {\n",
       "        text-align: right;\n",
       "    }\n",
       "</style>\n",
       "<table border=\"1\" class=\"dataframe\">\n",
       "  <thead>\n",
       "    <tr style=\"text-align: right;\">\n",
       "      <th></th>\n",
       "      <th>id</th>\n",
       "      <th>num1</th>\n",
       "      <th>num2</th>\n",
       "      <th>num3</th>\n",
       "      <th>num4</th>\n",
       "      <th>num5</th>\n",
       "      <th>num6</th>\n",
       "      <th>num7</th>\n",
       "    </tr>\n",
       "  </thead>\n",
       "  <tbody>\n",
       "    <tr>\n",
       "      <th>count</th>\n",
       "      <td>139.000000</td>\n",
       "      <td>139.000000</td>\n",
       "      <td>139.000000</td>\n",
       "      <td>139.000000</td>\n",
       "      <td>139.000000</td>\n",
       "      <td>139.000000</td>\n",
       "      <td>139.000000</td>\n",
       "      <td>139.000000</td>\n",
       "    </tr>\n",
       "    <tr>\n",
       "      <th>mean</th>\n",
       "      <td>70.000000</td>\n",
       "      <td>2.978417</td>\n",
       "      <td>4.532374</td>\n",
       "      <td>4.489209</td>\n",
       "      <td>4.798561</td>\n",
       "      <td>4.115108</td>\n",
       "      <td>4.546763</td>\n",
       "      <td>4.812950</td>\n",
       "    </tr>\n",
       "    <tr>\n",
       "      <th>std</th>\n",
       "      <td>40.269923</td>\n",
       "      <td>1.441957</td>\n",
       "      <td>2.774893</td>\n",
       "      <td>2.939898</td>\n",
       "      <td>3.048354</td>\n",
       "      <td>2.939188</td>\n",
       "      <td>2.716624</td>\n",
       "      <td>2.796396</td>\n",
       "    </tr>\n",
       "    <tr>\n",
       "      <th>min</th>\n",
       "      <td>1.000000</td>\n",
       "      <td>1.000000</td>\n",
       "      <td>0.000000</td>\n",
       "      <td>0.000000</td>\n",
       "      <td>0.000000</td>\n",
       "      <td>0.000000</td>\n",
       "      <td>0.000000</td>\n",
       "      <td>0.000000</td>\n",
       "    </tr>\n",
       "    <tr>\n",
       "      <th>25%</th>\n",
       "      <td>35.500000</td>\n",
       "      <td>2.000000</td>\n",
       "      <td>2.000000</td>\n",
       "      <td>2.000000</td>\n",
       "      <td>2.000000</td>\n",
       "      <td>2.000000</td>\n",
       "      <td>2.000000</td>\n",
       "      <td>2.000000</td>\n",
       "    </tr>\n",
       "    <tr>\n",
       "      <th>50%</th>\n",
       "      <td>70.000000</td>\n",
       "      <td>3.000000</td>\n",
       "      <td>5.000000</td>\n",
       "      <td>4.000000</td>\n",
       "      <td>5.000000</td>\n",
       "      <td>4.000000</td>\n",
       "      <td>5.000000</td>\n",
       "      <td>5.000000</td>\n",
       "    </tr>\n",
       "    <tr>\n",
       "      <th>75%</th>\n",
       "      <td>104.500000</td>\n",
       "      <td>4.000000</td>\n",
       "      <td>7.000000</td>\n",
       "      <td>7.000000</td>\n",
       "      <td>7.000000</td>\n",
       "      <td>6.500000</td>\n",
       "      <td>7.000000</td>\n",
       "      <td>7.000000</td>\n",
       "    </tr>\n",
       "    <tr>\n",
       "      <th>max</th>\n",
       "      <td>139.000000</td>\n",
       "      <td>5.000000</td>\n",
       "      <td>9.000000</td>\n",
       "      <td>9.000000</td>\n",
       "      <td>9.000000</td>\n",
       "      <td>9.000000</td>\n",
       "      <td>9.000000</td>\n",
       "      <td>9.000000</td>\n",
       "    </tr>\n",
       "  </tbody>\n",
       "</table>\n",
       "</div>"
      ],
      "text/plain": [
       "               id        num1        num2        num3        num4        num5  \\\n",
       "count  139.000000  139.000000  139.000000  139.000000  139.000000  139.000000   \n",
       "mean    70.000000    2.978417    4.532374    4.489209    4.798561    4.115108   \n",
       "std     40.269923    1.441957    2.774893    2.939898    3.048354    2.939188   \n",
       "min      1.000000    1.000000    0.000000    0.000000    0.000000    0.000000   \n",
       "25%     35.500000    2.000000    2.000000    2.000000    2.000000    2.000000   \n",
       "50%     70.000000    3.000000    5.000000    4.000000    5.000000    4.000000   \n",
       "75%    104.500000    4.000000    7.000000    7.000000    7.000000    6.500000   \n",
       "max    139.000000    5.000000    9.000000    9.000000    9.000000    9.000000   \n",
       "\n",
       "             num6        num7  \n",
       "count  139.000000  139.000000  \n",
       "mean     4.546763    4.812950  \n",
       "std      2.716624    2.796396  \n",
       "min      0.000000    0.000000  \n",
       "25%      2.000000    2.000000  \n",
       "50%      5.000000    5.000000  \n",
       "75%      7.000000    7.000000  \n",
       "max      9.000000    9.000000  "
      ]
     },
     "execution_count": 6,
     "metadata": {},
     "output_type": "execute_result"
    }
   ],
   "source": [
    "raw_lott.describe()"
   ]
  },
  {
   "cell_type": "code",
   "execution_count": 7,
   "id": "b6f87661",
   "metadata": {},
   "outputs": [
    {
     "data": {
      "text/html": [
       "<div>\n",
       "<style scoped>\n",
       "    .dataframe tbody tr th:only-of-type {\n",
       "        vertical-align: middle;\n",
       "    }\n",
       "\n",
       "    .dataframe tbody tr th {\n",
       "        vertical-align: top;\n",
       "    }\n",
       "\n",
       "    .dataframe thead th {\n",
       "        text-align: right;\n",
       "    }\n",
       "</style>\n",
       "<table border=\"1\" class=\"dataframe\">\n",
       "  <thead>\n",
       "    <tr style=\"text-align: right;\">\n",
       "      <th></th>\n",
       "      <th>num1</th>\n",
       "      <th>num2</th>\n",
       "      <th>num3</th>\n",
       "      <th>num4</th>\n",
       "      <th>num5</th>\n",
       "      <th>num6</th>\n",
       "    </tr>\n",
       "  </thead>\n",
       "  <tbody>\n",
       "    <tr>\n",
       "      <th>0</th>\n",
       "      <td>0</td>\n",
       "      <td>6.0</td>\n",
       "      <td>1.0</td>\n",
       "      <td>2</td>\n",
       "      <td>1.0</td>\n",
       "      <td>0.0</td>\n",
       "    </tr>\n",
       "    <tr>\n",
       "      <th>1</th>\n",
       "      <td>4</td>\n",
       "      <td>NaN</td>\n",
       "      <td>4.0</td>\n",
       "      <td>6</td>\n",
       "      <td>NaN</td>\n",
       "      <td>NaN</td>\n",
       "    </tr>\n",
       "    <tr>\n",
       "      <th>2</th>\n",
       "      <td>9</td>\n",
       "      <td>NaN</td>\n",
       "      <td>NaN</td>\n",
       "      <td>9</td>\n",
       "      <td>NaN</td>\n",
       "      <td>NaN</td>\n",
       "    </tr>\n",
       "  </tbody>\n",
       "</table>\n",
       "</div>"
      ],
      "text/plain": [
       "   num1  num2  num3  num4  num5  num6\n",
       "0     0   6.0   1.0     2   1.0   0.0\n",
       "1     4   NaN   4.0     6   NaN   NaN\n",
       "2     9   NaN   NaN     9   NaN   NaN"
      ]
     },
     "execution_count": 7,
     "metadata": {},
     "output_type": "execute_result"
    }
   ],
   "source": [
    "# 얘는 왜 이렇게 나오지?\n",
    "raw_bonus.mode()"
   ]
  },
  {
   "cell_type": "code",
   "execution_count": 8,
   "id": "fd97b8ce",
   "metadata": {},
   "outputs": [
    {
     "data": {
      "text/plain": [
       "id\n",
       "1      False\n",
       "2      False\n",
       "3      False\n",
       "4      False\n",
       "5      False\n",
       "       ...  \n",
       "135    False\n",
       "136    False\n",
       "137    False\n",
       "138    False\n",
       "139    False\n",
       "Length: 139, dtype: bool"
      ]
     },
     "execution_count": 8,
     "metadata": {},
     "output_type": "execute_result"
    }
   ],
   "source": [
    "raw_bonus.duplicated()"
   ]
  },
  {
   "cell_type": "code",
   "execution_count": 9,
   "id": "e88ee11d",
   "metadata": {},
   "outputs": [
    {
     "data": {
      "text/plain": [
       "num1    0\n",
       "num2    0\n",
       "num3    0\n",
       "num4    0\n",
       "num5    0\n",
       "num6    0\n",
       "dtype: int64"
      ]
     },
     "execution_count": 9,
     "metadata": {},
     "output_type": "execute_result"
    }
   ],
   "source": [
    "raw_bonus.isna().sum()"
   ]
  },
  {
   "cell_type": "code",
   "execution_count": null,
   "id": "120e5634",
   "metadata": {},
   "outputs": [],
   "source": []
  },
  {
   "cell_type": "code",
   "execution_count": null,
   "id": "d0bd2f25",
   "metadata": {},
   "outputs": [],
   "source": []
  },
  {
   "cell_type": "code",
   "execution_count": null,
   "id": "48e9e7f9",
   "metadata": {},
   "outputs": [],
   "source": []
  },
  {
   "cell_type": "code",
   "execution_count": 10,
   "id": "2c76cf68",
   "metadata": {},
   "outputs": [],
   "source": [
    "# 버젼 3개? \n",
    "# 1. 주 번호만 \n",
    "# 2. 보너스 번호만 \n",
    "# 3. 주 + 보너스 번호"
   ]
  },
  {
   "cell_type": "code",
   "execution_count": 11,
   "id": "63ec4555",
   "metadata": {},
   "outputs": [
    {
     "data": {
      "text/plain": [
       "(array([ 1.,  4., 14., 12., 20., 34., 29., 16.,  6.,  3.]),\n",
       " array([11. , 14.6, 18.2, 21.8, 25.4, 29. , 32.6, 36.2, 39.8, 43.4, 47. ]),\n",
       " <BarContainer object of 10 artists>)"
      ]
     },
     "execution_count": 11,
     "metadata": {},
     "output_type": "execute_result"
    },
    {
     "data": {
      "image/png": "[encoded data removed]",
      "text/plain": [
       "<Figure size 640x480 with 1 Axes>"
      ]
     },
     "metadata": {},
     "output_type": "display_data"
    }
   ],
   "source": [
    "# 기본 번호 컬럼을 전부 합하면? \n",
    "sum_lott = raw_lott.num1+raw_lott.num2+raw_lott.num3+raw_lott.num4+raw_lott.num5+raw_lott.num6+raw_lott.num7\n",
    "sum_lott # Series Type\n",
    "\n",
    "# 기본 번호들을 전부 합한 값들의 분포. \n",
    "plt.hist(sum_lott)"
   ]
  },
  {
   "cell_type": "code",
   "execution_count": 12,
   "id": "16538816",
   "metadata": {},
   "outputs": [
    {
     "data": {
      "text/plain": [
       "(array([ 1.,  8., 11., 25., 24., 22., 25., 14.,  4.,  5.]),\n",
       " array([ 8. , 11.8, 15.6, 19.4, 23.2, 27. , 30.8, 34.6, 38.4, 42.2, 46. ]),\n",
       " <BarContainer object of 10 artists>)"
      ]
     },
     "execution_count": 12,
     "metadata": {},
     "output_type": "execute_result"
    },
    {
     "data": {
      "image/png": "[encoded data removed]",
      "text/plain": [
       "<Figure size 640x480 with 1 Axes>"
      ]
     },
     "metadata": {},
     "output_type": "display_data"
    }
   ],
   "source": [
    "# 보너스 번호 컬럼 합.\n",
    "sum_bonu = raw_bonus.num1+raw_bonus.num2+raw_bonus.num3+raw_bonus.num4+raw_bonus.num5+raw_bonus.num6\n",
    "sum_bonu # Series Type\n",
    "\n",
    "# 보너스 번호들을 전부 합한 값들의 분포. \n",
    "plt.hist(sum_bonu)"
   ]
  },
  {
   "cell_type": "code",
   "execution_count": null,
   "id": "10358620",
   "metadata": {},
   "outputs": [],
   "source": []
  },
  {
   "cell_type": "code",
   "execution_count": null,
   "id": "42841cec",
   "metadata": {},
   "outputs": [],
   "source": []
  },
  {
   "cell_type": "code",
   "execution_count": null,
   "id": "1404c9d0",
   "metadata": {},
   "outputs": [],
   "source": []
  },
  {
   "cell_type": "code",
   "execution_count": 13,
   "id": "bb316b85",
   "metadata": {},
   "outputs": [
    {
     "data": {
      "text/plain": [
       "0      4162132\n",
       "1      2450558\n",
       "2      4544955\n",
       "3      4124420\n",
       "4      4754655\n",
       "        ...   \n",
       "134    2400876\n",
       "135    5587411\n",
       "136    1873784\n",
       "137    1393066\n",
       "138    1201688\n",
       "Length: 139, dtype: object"
      ]
     },
     "execution_count": 13,
     "metadata": {},
     "output_type": "execute_result"
    }
   ],
   "source": [
    "# 기본번호를 일곱자리 숫자로 \n",
    "lott7 = raw_lott.num1.astype(str)+raw_lott.num2.astype(str)+raw_lott.num3.astype(str)+raw_lott.num4.astype(str)+raw_lott.num5.astype(str)+raw_lott.num6.astype(str)+raw_lott.num7.astype(str)\n",
    "lott7"
   ]
  },
  {
   "cell_type": "code",
   "execution_count": 14,
   "id": "0765f0e2",
   "metadata": {},
   "outputs": [
    {
     "data": {
      "text/plain": [
       "id\n",
       "1      278239\n",
       "2      154457\n",
       "3      059369\n",
       "4      221097\n",
       "5      190779\n",
       "        ...  \n",
       "135    480190\n",
       "136    430827\n",
       "137    609795\n",
       "138    269254\n",
       "139    056960\n",
       "Length: 139, dtype: object"
      ]
     },
     "execution_count": 14,
     "metadata": {},
     "output_type": "execute_result"
    }
   ],
   "source": [
    "# 보너스를 여섯자리 숫자로\n",
    "bonus6 = raw_bonus.num1.astype(str)+raw_bonus.num2.astype(str)+raw_bonus.num3.astype(str)+raw_bonus.num4.astype(str)+raw_bonus.num5.astype(str)+raw_bonus.num6.astype(str)\n",
    "bonus6"
   ]
  },
  {
   "cell_type": "code",
   "execution_count": 15,
   "id": "0b94668d",
   "metadata": {},
   "outputs": [
    {
     "data": {
      "text/plain": [
       "0      162132\n",
       "1      450558\n",
       "2      544955\n",
       "3      124420\n",
       "4      754655\n",
       "        ...  \n",
       "134    400876\n",
       "135    587411\n",
       "136    873784\n",
       "137    393066\n",
       "138    201688\n",
       "Length: 139, dtype: object"
      ]
     },
     "execution_count": 15,
     "metadata": {},
     "output_type": "execute_result"
    }
   ],
   "source": [
    "new_bonus6 = raw_lott.num2.astype(str)+raw_lott.num3.astype(str)+raw_lott.num4.astype(str)+raw_lott.num5.astype(str)+raw_lott.num6.astype(str)+raw_lott.num7.astype(str)\n",
    "new_bonus6"
   ]
  },
  {
   "cell_type": "code",
   "execution_count": 16,
   "id": "ae61cc09",
   "metadata": {},
   "outputs": [],
   "source": [
    "# 6자리 숫자끼리 합치기.\n",
    "test = pd.DataFrame(new_bonus6)\n",
    "test2 = pd.DataFrame(bonus6)\n",
    "\n",
    "final_bonus6 = pd.concat([test, test2])\n",
    "final_bonus6 = final_bonus6.reset_index()"
   ]
  },
  {
   "cell_type": "code",
   "execution_count": 18,
   "id": "c7dce90d",
   "metadata": {},
   "outputs": [],
   "source": [
    "# final_bonus6.drop('id', axis=1, inplace=True)\n",
    "# final_bonus6"
   ]
  },
  {
   "cell_type": "code",
   "execution_count": null,
   "id": "f5b90ec7",
   "metadata": {},
   "outputs": [],
   "source": []
  },
  {
   "cell_type": "code",
   "execution_count": 19,
   "id": "ecbb1155",
   "metadata": {},
   "outputs": [
    {
     "data": {
      "text/plain": [
       "id      52\n",
       "num1     2\n",
       "num2     5\n",
       "num3     9\n",
       "num4     7\n",
       "num5     2\n",
       "num6     2\n",
       "num7     7\n",
       "Name: 51, dtype: int64"
      ]
     },
     "execution_count": 19,
     "metadata": {},
     "output_type": "execute_result"
    }
   ],
   "source": [
    "# 그렇구나 복원 추출이니까 6개 숫자의 합이 9가 나올 수도 있고, 0이 될 수도 있다..!!\n",
    "raw_lott.loc[51]"
   ]
  },
  {
   "cell_type": "code",
   "execution_count": 20,
   "id": "ba309b9b",
   "metadata": {
    "scrolled": true
   },
   "outputs": [
    {
     "data": {
      "text/html": [
       "<div>\n",
       "<style scoped>\n",
       "    .dataframe tbody tr th:only-of-type {\n",
       "        vertical-align: middle;\n",
       "    }\n",
       "\n",
       "    .dataframe tbody tr th {\n",
       "        vertical-align: top;\n",
       "    }\n",
       "\n",
       "    .dataframe thead th {\n",
       "        text-align: right;\n",
       "    }\n",
       "</style>\n",
       "<table border=\"1\" class=\"dataframe\">\n",
       "  <thead>\n",
       "    <tr style=\"text-align: right;\">\n",
       "      <th></th>\n",
       "      <th>id</th>\n",
       "      <th>num1</th>\n",
       "      <th>num2</th>\n",
       "      <th>num3</th>\n",
       "      <th>num4</th>\n",
       "      <th>num5</th>\n",
       "      <th>num6</th>\n",
       "      <th>num7</th>\n",
       "    </tr>\n",
       "  </thead>\n",
       "  <tbody>\n",
       "    <tr>\n",
       "      <th>0</th>\n",
       "      <td>1</td>\n",
       "      <td>4</td>\n",
       "      <td>1</td>\n",
       "      <td>6</td>\n",
       "      <td>2</td>\n",
       "      <td>1</td>\n",
       "      <td>3</td>\n",
       "      <td>2</td>\n",
       "    </tr>\n",
       "    <tr>\n",
       "      <th>1</th>\n",
       "      <td>2</td>\n",
       "      <td>2</td>\n",
       "      <td>4</td>\n",
       "      <td>5</td>\n",
       "      <td>0</td>\n",
       "      <td>5</td>\n",
       "      <td>5</td>\n",
       "      <td>8</td>\n",
       "    </tr>\n",
       "    <tr>\n",
       "      <th>2</th>\n",
       "      <td>3</td>\n",
       "      <td>4</td>\n",
       "      <td>5</td>\n",
       "      <td>4</td>\n",
       "      <td>4</td>\n",
       "      <td>9</td>\n",
       "      <td>5</td>\n",
       "      <td>5</td>\n",
       "    </tr>\n",
       "    <tr>\n",
       "      <th>3</th>\n",
       "      <td>4</td>\n",
       "      <td>4</td>\n",
       "      <td>1</td>\n",
       "      <td>2</td>\n",
       "      <td>4</td>\n",
       "      <td>4</td>\n",
       "      <td>2</td>\n",
       "      <td>0</td>\n",
       "    </tr>\n",
       "    <tr>\n",
       "      <th>4</th>\n",
       "      <td>5</td>\n",
       "      <td>4</td>\n",
       "      <td>7</td>\n",
       "      <td>5</td>\n",
       "      <td>4</td>\n",
       "      <td>6</td>\n",
       "      <td>5</td>\n",
       "      <td>5</td>\n",
       "    </tr>\n",
       "    <tr>\n",
       "      <th>...</th>\n",
       "      <td>...</td>\n",
       "      <td>...</td>\n",
       "      <td>...</td>\n",
       "      <td>...</td>\n",
       "      <td>...</td>\n",
       "      <td>...</td>\n",
       "      <td>...</td>\n",
       "      <td>...</td>\n",
       "    </tr>\n",
       "    <tr>\n",
       "      <th>134</th>\n",
       "      <td>135</td>\n",
       "      <td>2</td>\n",
       "      <td>4</td>\n",
       "      <td>0</td>\n",
       "      <td>0</td>\n",
       "      <td>8</td>\n",
       "      <td>7</td>\n",
       "      <td>6</td>\n",
       "    </tr>\n",
       "    <tr>\n",
       "      <th>135</th>\n",
       "      <td>136</td>\n",
       "      <td>5</td>\n",
       "      <td>5</td>\n",
       "      <td>8</td>\n",
       "      <td>7</td>\n",
       "      <td>4</td>\n",
       "      <td>1</td>\n",
       "      <td>1</td>\n",
       "    </tr>\n",
       "    <tr>\n",
       "      <th>136</th>\n",
       "      <td>137</td>\n",
       "      <td>1</td>\n",
       "      <td>8</td>\n",
       "      <td>7</td>\n",
       "      <td>3</td>\n",
       "      <td>7</td>\n",
       "      <td>8</td>\n",
       "      <td>4</td>\n",
       "    </tr>\n",
       "    <tr>\n",
       "      <th>137</th>\n",
       "      <td>138</td>\n",
       "      <td>1</td>\n",
       "      <td>3</td>\n",
       "      <td>9</td>\n",
       "      <td>3</td>\n",
       "      <td>0</td>\n",
       "      <td>6</td>\n",
       "      <td>6</td>\n",
       "    </tr>\n",
       "    <tr>\n",
       "      <th>138</th>\n",
       "      <td>139</td>\n",
       "      <td>1</td>\n",
       "      <td>2</td>\n",
       "      <td>0</td>\n",
       "      <td>1</td>\n",
       "      <td>6</td>\n",
       "      <td>8</td>\n",
       "      <td>8</td>\n",
       "    </tr>\n",
       "  </tbody>\n",
       "</table>\n",
       "<p>139 rows × 8 columns</p>\n",
       "</div>"
      ],
      "text/plain": [
       "      id  num1  num2  num3  num4  num5  num6  num7\n",
       "0      1     4     1     6     2     1     3     2\n",
       "1      2     2     4     5     0     5     5     8\n",
       "2      3     4     5     4     4     9     5     5\n",
       "3      4     4     1     2     4     4     2     0\n",
       "4      5     4     7     5     4     6     5     5\n",
       "..   ...   ...   ...   ...   ...   ...   ...   ...\n",
       "134  135     2     4     0     0     8     7     6\n",
       "135  136     5     5     8     7     4     1     1\n",
       "136  137     1     8     7     3     7     8     4\n",
       "137  138     1     3     9     3     0     6     6\n",
       "138  139     1     2     0     1     6     8     8\n",
       "\n",
       "[139 rows x 8 columns]"
      ]
     },
     "execution_count": 20,
     "metadata": {},
     "output_type": "execute_result"
    }
   ],
   "source": [
    "raw_lott"
   ]
  },
  {
   "cell_type": "code",
   "execution_count": null,
   "id": "3acb14f4",
   "metadata": {},
   "outputs": [],
   "source": []
  },
  {
   "cell_type": "code",
   "execution_count": null,
   "id": "41844c94",
   "metadata": {},
   "outputs": [],
   "source": []
  },
  {
   "cell_type": "code",
   "execution_count": null,
   "id": "937469e5",
   "metadata": {},
   "outputs": [],
   "source": []
  },
  {
   "cell_type": "code",
   "execution_count": null,
   "id": "29d081f5",
   "metadata": {},
   "outputs": [],
   "source": []
  },
  {
   "cell_type": "code",
   "execution_count": 21,
   "id": "0b4a4646",
   "metadata": {},
   "outputs": [
    {
     "data": {
      "text/plain": [
       "array([[1],\n",
       "       [4],\n",
       "       [1],\n",
       "       ...,\n",
       "       [6],\n",
       "       [8],\n",
       "       [8]])"
      ]
     },
     "execution_count": 21,
     "metadata": {},
     "output_type": "execute_result"
    }
   ],
   "source": [
    "raw_lott.values.reshape(-1, 1)"
   ]
  },
  {
   "cell_type": "code",
   "execution_count": 7,
   "id": "e369ffc4",
   "metadata": {},
   "outputs": [],
   "source": [
    " #raw_lott.values.reshape(-1, 1)"
   ]
  },
  {
   "cell_type": "code",
   "execution_count": 23,
   "id": "b45166fe",
   "metadata": {},
   "outputs": [
    {
     "data": {
      "text/plain": [
       "array([[2],\n",
       "       [1],\n",
       "       [1],\n",
       "       [2],\n",
       "       [4],\n",
       "       [1],\n",
       "       [2],\n",
       "       [2],\n",
       "       [1],\n",
       "       [4],\n",
       "       [2],\n",
       "       [4],\n",
       "       [1],\n",
       "       [1],\n",
       "       [3],\n",
       "       [2],\n",
       "       [3],\n",
       "       [1],\n",
       "       [2],\n",
       "       [4],\n",
       "       [2],\n",
       "       [4],\n",
       "       [3],\n",
       "       [1],\n",
       "       [4],\n",
       "       [3],\n",
       "       [2],\n",
       "       [4],\n",
       "       [2],\n",
       "       [1],\n",
       "       [3],\n",
       "       [1],\n",
       "       [4],\n",
       "       [3],\n",
       "       [1],\n",
       "       [3],\n",
       "       [3],\n",
       "       [2],\n",
       "       [4],\n",
       "       [3],\n",
       "       [3],\n",
       "       [4],\n",
       "       [1],\n",
       "       [4],\n",
       "       [4],\n",
       "       [2],\n",
       "       [3],\n",
       "       [3],\n",
       "       [1],\n",
       "       [3],\n",
       "       [1],\n",
       "       [1],\n",
       "       [1],\n",
       "       [1],\n",
       "       [3],\n",
       "       [4],\n",
       "       [1],\n",
       "       [4],\n",
       "       [2],\n",
       "       [2],\n",
       "       [3],\n",
       "       [2],\n",
       "       [2],\n",
       "       [2],\n",
       "       [4],\n",
       "       [2],\n",
       "       [2],\n",
       "       [4],\n",
       "       [1],\n",
       "       [3],\n",
       "       [4],\n",
       "       [2],\n",
       "       [3],\n",
       "       [4],\n",
       "       [1],\n",
       "       [1],\n",
       "       [1],\n",
       "       [4],\n",
       "       [4],\n",
       "       [1],\n",
       "       [1],\n",
       "       [1],\n",
       "       [4],\n",
       "       [4],\n",
       "       [2],\n",
       "       [1],\n",
       "       [1],\n",
       "       [2],\n",
       "       [2],\n",
       "       [1],\n",
       "       [1],\n",
       "       [4],\n",
       "       [3],\n",
       "       [4],\n",
       "       [4],\n",
       "       [4],\n",
       "       [1],\n",
       "       [4],\n",
       "       [4],\n",
       "       [3],\n",
       "       [2],\n",
       "       [4],\n",
       "       [3],\n",
       "       [1],\n",
       "       [4],\n",
       "       [2],\n",
       "       [4],\n",
       "       [3],\n",
       "       [4],\n",
       "       [3],\n",
       "       [2],\n",
       "       [2],\n",
       "       [4],\n",
       "       [2],\n",
       "       [3],\n",
       "       [3],\n",
       "       [1],\n",
       "       [2],\n",
       "       [2],\n",
       "       [4],\n",
       "       [4],\n",
       "       [1],\n",
       "       [1],\n",
       "       [3],\n",
       "       [2],\n",
       "       [3],\n",
       "       [4],\n",
       "       [4],\n",
       "       [2],\n",
       "       [3],\n",
       "       [3],\n",
       "       [3],\n",
       "       [4],\n",
       "       [2],\n",
       "       [4],\n",
       "       [3],\n",
       "       [2],\n",
       "       [3],\n",
       "       [1]])"
      ]
     },
     "execution_count": 23,
     "metadata": {},
     "output_type": "execute_result"
    }
   ],
   "source": [
    "import random\n",
    "import numpy\n",
    "\n",
    "rand_list_5 = []\n",
    "\n",
    "for i in range(0, len(raw_lott)):\n",
    "    rand = random.randrange(1, 5)\n",
    "    rand_list_5.append(rand)\n",
    "    \n",
    "rand_list_5 = pd.DataFrame(rand_list_5)\n",
    "rand_list_5.values.reshape(-1, 1)"
   ]
  },
  {
   "cell_type": "code",
   "execution_count": 24,
   "id": "c794e2b1",
   "metadata": {},
   "outputs": [
    {
     "data": {
      "image/png": "[encoded data removed]",
      "text/plain": [
       "<Figure size 640x480 with 1 Axes>"
      ]
     },
     "metadata": {},
     "output_type": "display_data"
    }
   ],
   "source": [
    "import seaborn as sns\n",
    "\n",
    "x = raw_lott['id']\n",
    "y = raw_lott['num1']\n",
    "\n",
    "predict = raw_lott['num1'].mean()\n",
    "errors = predict - raw_lott['num1']\n",
    "mean_absolute_error = errors.abs().mean()\n",
    "\n",
    "sns.lineplot(x=x, y=predict, color='red')\n",
    "sns.scatterplot(x=x, y=y, color='blue');"
   ]
  },
  {
   "cell_type": "code",
   "execution_count": 27,
   "id": "4303b601",
   "metadata": {},
   "outputs": [],
   "source": [
    "# rand_list = []\n",
    "\n",
    "# pre_group = LinearRegression()\n",
    "# pre_group.fit(rand_list.values.reshape(-1, 1), raw_lott['num1'])\n",
    "# ans_group = pre_group.predict([[len(raw_lott)]])   # ([['len(raw_lott)']])[0]\n",
    "# ans_group"
   ]
  },
  {
   "cell_type": "code",
   "execution_count": 28,
   "id": "dda26699",
   "metadata": {},
   "outputs": [],
   "source": [
    "# 범위 이외의 값이 나온다. ex) -7.561225140234574 ..\n",
    "\n",
    "\n",
    "# pre_num1 = LinearRegression()\n",
    "# pre_group.fit(rand_list.values.reshape(-1, 1), raw_lott['num2'])\n",
    "# ans_num1 = pre_group.predict([[len(raw_lott)]])[0]\n",
    "\n",
    "# pre_num2 = LinearRegression()\n",
    "# pre_group.fit(rand_list.values.reshape(-1, 1), raw_lott['num3'])\n",
    "# ans_num2 = pre_group.predict([[len(raw_lott)]])[0]\n",
    "\n",
    "# pre_num3 = LinearRegression()\n",
    "# pre_group.fit(rand_list.values.reshape(-1, 1), raw_lott['num4'])\n",
    "# ans_num3 = pre_group.predict([[len(raw_lott)]])[0]\n",
    "\n",
    "# pre_num4 = LinearRegression()\n",
    "# pre_group.fit(rand_list.values.reshape(-1, 1), raw_lott['num5'])\n",
    "# ans_num4 = pre_group.predict([[len(raw_lott)]])[0]\n",
    "\n",
    "# pre_num5 = LinearRegression()\n",
    "# pre_group.fit(rand_list.values.reshape(-1, 1), raw_lott['num6'])\n",
    "# ans_num5 = pre_group.predict([[len(raw_lott)]])[0]\n",
    "\n",
    "# pre_num6 = LinearRegression()\n",
    "# pre_group.fit(rand_list.values.reshape(-1, 1), raw_lott['num7'])\n",
    "# ans_num6 = pre_group.predict([[len(raw_lott)+1]])[0]"
   ]
  },
  {
   "cell_type": "code",
   "execution_count": null,
   "id": "069ef85e",
   "metadata": {},
   "outputs": [],
   "source": []
  },
  {
   "cell_type": "code",
   "execution_count": null,
   "id": "6fec0b19",
   "metadata": {},
   "outputs": [],
   "source": [
    "# 스샷용"
   ]
  },
  {
   "cell_type": "code",
   "execution_count": null,
   "id": "2e2411f2",
   "metadata": {},
   "outputs": [],
   "source": [
    "from sklearn.linear_model import LinearRegression\n",
    "\n",
    "## 예측모델 인스턴스\n",
    "pre_num1 = LinearRegression()\n",
    "\n",
    "feature = ['id']\n",
    "target1 = ['num1']\n",
    "\n",
    "X_train = raw_lott[feature]\n",
    "y_train1 = raw_lott[target1]\n",
    "\n",
    "\n",
    "## 모델을 학습(fit)\n",
    "pre_num1.fit(X_train, y_train1)\n",
    "\n",
    "\n",
    "## 새로운 데이터 샘플로 성능 테스트\n",
    "X_test = [[140]]\n",
    "y_pred1 = round(float(pre_num1.predict(X_test)))"
   ]
  },
  {
   "cell_type": "code",
   "execution_count": null,
   "id": "52f88116",
   "metadata": {},
   "outputs": [],
   "source": []
  },
  {
   "cell_type": "code",
   "execution_count": null,
   "id": "5f0a6afb",
   "metadata": {},
   "outputs": [],
   "source": []
  },
  {
   "cell_type": "code",
   "execution_count": null,
   "id": "385d8b58",
   "metadata": {},
   "outputs": [],
   "source": []
  },
  {
   "cell_type": "code",
   "execution_count": null,
   "id": "c029f067",
   "metadata": {},
   "outputs": [],
   "source": []
  },
  {
   "cell_type": "code",
   "execution_count": null,
   "id": "021ecee9",
   "metadata": {},
   "outputs": [],
   "source": [
    "####################### 메인 번호 ###########################"
   ]
  },
  {
   "cell_type": "code",
   "execution_count": 29,
   "id": "fc83a330",
   "metadata": {},
   "outputs": [],
   "source": [
    "## 예측모델 인스턴스\n",
    "from sklearn.linear_model import LinearRegression\n",
    "\n",
    "pre_num1 = LinearRegression()\n",
    "pre_num2 = LinearRegression()\n",
    "pre_num3 = LinearRegression()\n",
    "pre_num4 = LinearRegression()\n",
    "pre_num5 = LinearRegression()\n",
    "pre_num6 = LinearRegression()\n",
    "pre_num7 = LinearRegression()\n",
    "\n",
    "\n",
    "feature = ['id']\n",
    "\n",
    "target1 = ['num1']\n",
    "target2 = ['num2']\n",
    "target3 = ['num3']\n",
    "target4 = ['num4']\n",
    "target5 = ['num5']\n",
    "target6 = ['num6']\n",
    "target7 = ['num7']\n",
    "\n",
    "\n",
    "X_train = raw_lott[feature]\n",
    "\n",
    "y_train1 = raw_lott[target1]\n",
    "y_train2 = raw_lott[target2]\n",
    "y_train3 = raw_lott[target3]\n",
    "y_train4 = raw_lott[target4]\n",
    "y_train5 = raw_lott[target5]\n",
    "y_train6 = raw_lott[target6]\n",
    "y_train7 = raw_lott[target7]"
   ]
  },
  {
   "cell_type": "code",
   "execution_count": 30,
   "id": "36631758",
   "metadata": {},
   "outputs": [
    {
     "data": {
      "text/plain": [
       "LinearRegression()"
      ]
     },
     "execution_count": 30,
     "metadata": {},
     "output_type": "execute_result"
    }
   ],
   "source": [
    "## 모델을 학습(fit)\n",
    "pre_num1.fit(X_train, y_train1)\n",
    "pre_num2.fit(X_train, y_train2)\n",
    "pre_num3.fit(X_train, y_train3)\n",
    "pre_num4.fit(X_train, y_train4)\n",
    "pre_num5.fit(X_train, y_train5)\n",
    "pre_num6.fit(X_train, y_train6)\n",
    "pre_num7.fit(X_train, y_train7)"
   ]
  },
  {
   "cell_type": "code",
   "execution_count": 31,
   "id": "51d30516",
   "metadata": {},
   "outputs": [
    {
     "name": "stdout",
     "output_type": "stream",
     "text": [
      "3 5 4 5 5 5 4\n"
     ]
    },
    {
     "name": "stderr",
     "output_type": "stream",
     "text": [
      "/Users/yun/opt/anaconda3/lib/python3.9/site-packages/sklearn/base.py:450: UserWarning: X does not have valid feature names, but LinearRegression was fitted with feature names\n",
      "  warnings.warn(\n",
      "/Users/yun/opt/anaconda3/lib/python3.9/site-packages/sklearn/base.py:450: UserWarning: X does not have valid feature names, but LinearRegression was fitted with feature names\n",
      "  warnings.warn(\n",
      "/Users/yun/opt/anaconda3/lib/python3.9/site-packages/sklearn/base.py:450: UserWarning: X does not have valid feature names, but LinearRegression was fitted with feature names\n",
      "  warnings.warn(\n",
      "/Users/yun/opt/anaconda3/lib/python3.9/site-packages/sklearn/base.py:450: UserWarning: X does not have valid feature names, but LinearRegression was fitted with feature names\n",
      "  warnings.warn(\n",
      "/Users/yun/opt/anaconda3/lib/python3.9/site-packages/sklearn/base.py:450: UserWarning: X does not have valid feature names, but LinearRegression was fitted with feature names\n",
      "  warnings.warn(\n",
      "/Users/yun/opt/anaconda3/lib/python3.9/site-packages/sklearn/base.py:450: UserWarning: X does not have valid feature names, but LinearRegression was fitted with feature names\n",
      "  warnings.warn(\n",
      "/Users/yun/opt/anaconda3/lib/python3.9/site-packages/sklearn/base.py:450: UserWarning: X does not have valid feature names, but LinearRegression was fitted with feature names\n",
      "  warnings.warn(\n"
     ]
    }
   ],
   "source": [
    "## 새로운 데이터 샘플\n",
    "X_test = [[140]]\n",
    "\n",
    "y_pred1 = round(float(pre_num1.predict(X_test)))\n",
    "y_pred2 = round(float(pre_num2.predict(X_test)))\n",
    "y_pred3 = round(float(pre_num3.predict(X_test)))\n",
    "y_pred4 = round(float(pre_num4.predict(X_test)))\n",
    "y_pred5 = round(float(pre_num5.predict(X_test)))\n",
    "y_pred6 = round(float(pre_num6.predict(X_test)))\n",
    "y_pred7 = round(float(pre_num7.predict(X_test)))\n",
    "\n",
    "# 반올림\n",
    "print(y_pred1, y_pred2, y_pred3, y_pred4, y_pred5, y_pred6, y_pred7)\n",
    "# 3 5 4 5 5 5 4 - 140\n",
    "#  - 1"
   ]
  },
  {
   "cell_type": "code",
   "execution_count": 32,
   "id": "765b5795",
   "metadata": {},
   "outputs": [],
   "source": [
    "# 모델 피클화\n",
    "import pickle\n",
    "\n",
    "with open('model1.pkl', 'wb') as p_file:\n",
    "    pickle.dump(pre_num1, p_file)\n",
    "    \n",
    "with open('model2.pkl', 'wb') as p_file:\n",
    "    pickle.dump(pre_num2, p_file)\n",
    "    \n",
    "with open('model3.pkl', 'wb') as p_file:\n",
    "    pickle.dump(pre_num3, p_file)\n",
    "    \n",
    "with open('model4.pkl', 'wb') as p_file:\n",
    "    pickle.dump(pre_num4, p_file)\n",
    "    \n",
    "with open('model5.pkl', 'wb') as p_file:\n",
    "    pickle.dump(pre_num5, p_file)\n",
    "    \n",
    "with open('model6.pkl', 'wb') as p_file:\n",
    "    pickle.dump(pre_num6, p_file)\n",
    "    \n",
    "with open('model7.pkl', 'wb') as p_file:\n",
    "    pickle.dump(pre_num7, p_file)\n",
    "    "
   ]
  },
  {
   "cell_type": "code",
   "execution_count": null,
   "id": "5598f33d",
   "metadata": {},
   "outputs": [],
   "source": []
  },
  {
   "cell_type": "code",
   "execution_count": null,
   "id": "f9b89a3b",
   "metadata": {},
   "outputs": [],
   "source": []
  },
  {
   "cell_type": "code",
   "execution_count": null,
   "id": "1902659d",
   "metadata": {},
   "outputs": [],
   "source": [
    "####################### 보너스 번호 ###########################"
   ]
  },
  {
   "cell_type": "code",
   "execution_count": 9,
   "id": "d834f373",
   "metadata": {},
   "outputs": [],
   "source": [
    "## 예측모델 인스턴스\n",
    "pre_bnum1 = LinearRegression()\n",
    "pre_bnum2 = LinearRegression()\n",
    "pre_bnum3 = LinearRegression()\n",
    "pre_bnum4 = LinearRegression()\n",
    "pre_bnum5 = LinearRegression()\n",
    "pre_bnum6 = LinearRegression()\n",
    "\n",
    "\n",
    "feature = ['id']\n",
    "\n",
    "target1 = ['num1']\n",
    "target2 = ['num2']\n",
    "target3 = ['num3']\n",
    "target4 = ['num4']\n",
    "target5 = ['num5']\n",
    "target6 = ['num6']\n",
    "\n",
    "X_train = raw_bonus[feature]\n",
    "\n",
    "y_train1 = raw_bonus[target1]\n",
    "y_train2 = raw_bonus[target2]\n",
    "y_train3 = raw_bonus[target3]\n",
    "y_train4 = raw_bonus[target4]\n",
    "y_train5 = raw_bonus[target5]\n",
    "y_train6 = raw_bonus[target6]"
   ]
  },
  {
   "cell_type": "code",
   "execution_count": 10,
   "id": "d4bbe81e",
   "metadata": {},
   "outputs": [
    {
     "data": {
      "text/plain": [
       "LinearRegression()"
      ]
     },
     "execution_count": 10,
     "metadata": {},
     "output_type": "execute_result"
    }
   ],
   "source": [
    "## 모델을 학습(fit)\n",
    "pre_bnum1.fit(X_train, y_train1)\n",
    "pre_bnum2.fit(X_train, y_train2)\n",
    "pre_bnum3.fit(X_train, y_train3)\n",
    "pre_bnum4.fit(X_train, y_train4)\n",
    "pre_bnum5.fit(X_train, y_train5)\n",
    "pre_bnum6.fit(X_train, y_train6)"
   ]
  },
  {
   "cell_type": "code",
   "execution_count": 12,
   "id": "e7fb3871",
   "metadata": {},
   "outputs": [
    {
     "name": "stdout",
     "output_type": "stream",
     "text": [
      "5 5 4 5 4 4\n"
     ]
    },
    {
     "name": "stderr",
     "output_type": "stream",
     "text": [
      "/Users/yun/opt/anaconda3/lib/python3.9/site-packages/sklearn/base.py:450: UserWarning: X does not have valid feature names, but LinearRegression was fitted with feature names\n",
      "  warnings.warn(\n",
      "/Users/yun/opt/anaconda3/lib/python3.9/site-packages/sklearn/base.py:450: UserWarning: X does not have valid feature names, but LinearRegression was fitted with feature names\n",
      "  warnings.warn(\n",
      "/Users/yun/opt/anaconda3/lib/python3.9/site-packages/sklearn/base.py:450: UserWarning: X does not have valid feature names, but LinearRegression was fitted with feature names\n",
      "  warnings.warn(\n",
      "/Users/yun/opt/anaconda3/lib/python3.9/site-packages/sklearn/base.py:450: UserWarning: X does not have valid feature names, but LinearRegression was fitted with feature names\n",
      "  warnings.warn(\n",
      "/Users/yun/opt/anaconda3/lib/python3.9/site-packages/sklearn/base.py:450: UserWarning: X does not have valid feature names, but LinearRegression was fitted with feature names\n",
      "  warnings.warn(\n",
      "/Users/yun/opt/anaconda3/lib/python3.9/site-packages/sklearn/base.py:450: UserWarning: X does not have valid feature names, but LinearRegression was fitted with feature names\n",
      "  warnings.warn(\n"
     ]
    }
   ],
   "source": [
    "## 새로운 데이터 샘플\n",
    "X_test = [[140]]\n",
    "\n",
    "y_pred1 = round(float(pre_bnum1.predict(X_test)))\n",
    "y_pred2 = round(float(pre_bnum2.predict(X_test)))\n",
    "y_pred3 = round(float(pre_bnum3.predict(X_test)))\n",
    "y_pred4 = round(float(pre_bnum4.predict(X_test)))\n",
    "y_pred5 = round(float(pre_bnum5.predict(X_test)))\n",
    "y_pred6 = round(float(pre_bnum6.predict(X_test)))\n",
    "\n",
    "\n",
    "# 반올림\n",
    "print(y_pred1, y_pred2, y_pred3, y_pred4, y_pred5, y_pred6)\n",
    "# 3 5 4 5 5 5 4 - 140"
   ]
  },
  {
   "cell_type": "code",
   "execution_count": 13,
   "id": "6ecfe3e4",
   "metadata": {},
   "outputs": [],
   "source": [
    "# 모델 피클화\n",
    "import pickle\n",
    "\n",
    "with open('b_model1.pkl', 'wb') as p_file:\n",
    "    pickle.dump(pre_bnum1, p_file)\n",
    "    \n",
    "with open('b_model2.pkl', 'wb') as p_file:\n",
    "    pickle.dump(pre_bnum2, p_file)\n",
    "    \n",
    "with open('b_model3.pkl', 'wb') as p_file:\n",
    "    pickle.dump(pre_bnum3, p_file)\n",
    "    \n",
    "with open('b_model4.pkl', 'wb') as p_file:\n",
    "    pickle.dump(pre_bnum4, p_file)\n",
    "    \n",
    "with open('b_model5.pkl', 'wb') as p_file:\n",
    "    pickle.dump(pre_bnum5, p_file)\n",
    "    \n",
    "with open('b_model6.pkl', 'wb') as p_file:\n",
    "    pickle.dump(pre_bnum6, p_file)"
   ]
  },
  {
   "cell_type": "code",
   "execution_count": null,
   "id": "5f16f989",
   "metadata": {},
   "outputs": [],
   "source": []
  },
  {
   "cell_type": "code",
   "execution_count": null,
   "id": "ce6fb64c",
   "metadata": {},
   "outputs": [],
   "source": []
  },
  {
   "cell_type": "code",
   "execution_count": null,
   "id": "9e778380",
   "metadata": {},
   "outputs": [],
   "source": []
  },
  {
   "cell_type": "code",
   "execution_count": null,
   "id": "690b0db4",
   "metadata": {},
   "outputs": [],
   "source": []
  }
 ],
 "metadata": {
  "kernelspec": {
   "display_name": "Python 3 (ipykernel)",
   "language": "python",
   "name": "python3"
  },
  "language_info": {
   "codemirror_mode": {
    "name": "ipython",
    "version": 3
   },
   "file_extension": ".py",
   "mimetype": "text/x-python",
   "name": "python",
   "nbconvert_exporter": "python",
   "pygments_lexer": "ipython3",
   "version": "3.9.13"
  }
 },
 "nbformat": 4,
 "nbformat_minor": 5
}
